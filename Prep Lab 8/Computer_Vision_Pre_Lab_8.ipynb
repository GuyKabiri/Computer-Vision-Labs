{
  "nbformat": 4,
  "nbformat_minor": 0,
  "metadata": {
    "colab": {
      "name": "Computer_Vision_Pre_Lab_8.ipynb",
      "provenance": [],
      "collapsed_sections": [],
      "toc_visible": true
    },
    "kernelspec": {
      "name": "python3",
      "display_name": "Python 3"
    },
    "language_info": {
      "name": "python"
    }
  },
  "cells": [
    {
      "cell_type": "markdown",
      "metadata": {
        "id": "pMYGkMonB_30"
      },
      "source": [
        "# Student Details:\n",
        "* Guy Kabiri\n",
        "* 312252224\n"
      ]
    },
    {
      "cell_type": "markdown",
      "metadata": {
        "id": "c62ilPTqBS4W"
      },
      "source": [
        "# Preparatory Report"
      ]
    },
    {
      "cell_type": "markdown",
      "metadata": {
        "id": "Bk5JRMiHoWXJ"
      },
      "source": [
        "## Architectures"
      ]
    },
    {
      "cell_type": "markdown",
      "metadata": {
        "id": "KmUFO0DLoZYc"
      },
      "source": [
        "### ***ResNet50***\n",
        "<div>\n",
        "    <img src=\"https://s3.ap-southeast-1.amazonaws.com/datawow/uploader/blogs/1*yy6Bbnp38MhcfDQbzOGf4A.png\" width=\"800px\"/>\n",
        "    <img src=\"https://user-images.githubusercontent.com/52006798/116693634-e07f7400-a9c6-11eb-96c4-1a8ebe2ec816.png\" width=\"800px\"/>\n",
        "</div>\n",
        "<!-- ![image](https://s3.ap-southeast-1.amazonaws.com/datawow/uploader/blogs/1*yy6Bbnp38MhcfDQbzOGf4A.png) -->\n",
        "<!-- ![ResNet50](https://user-images.githubusercontent.com/52006798/116693634-e07f7400-a9c6-11eb-96c4-1a8ebe2ec816.png) -->\n",
        "`ResNet50` is a CNN that contains 50 layers.  \n",
        "A `ResNet` architecture is based on the cerebral cortex in a human's brain. A residual neural network is constructed in a way that allows it to skip connections or jump over some layers. It was first being used back in 2012 by `AlexNet` which had 8 layers deep.  \n",
        "ResNet networks were originated designed for image recognition, but are being used today for various types of tasks.  \n",
        "The major disadvantage of an ultra-deep neural network is the problem of vanishing / exploding gradients which leads to an increase in the training error.  \n",
        "\n",
        "<div>\n",
        "    <img src=\"https://iq.opengenus.org/content/images/2020/03/Screenshot-from-2020-03-20-15-26-38.png\" width=\"300px\"/>\n",
        "</div>\n",
        "<!-- ![image](https://iq.opengenus.org/content/images/2020/03/Screenshot-from-2020-03-20-15-26-38.png)   -->\n",
        "To solve this problem, this architecture implemented shortcut connections that bypass some layers. These shortcuts help in bypassing layers that lead to vanishing gradients, and as they are only a bypass, they do not add parameters to the architecture."
      ]
    },
    {
      "cell_type": "markdown",
      "metadata": {
        "id": "rGPHXo9xqXKL"
      },
      "source": [
        "### ***EfficientNet-B3***\n",
        "\n",
        "<div>\n",
        "    <img src=\"https://1.bp.blogspot.com/-DjZT_TLYZok/XO3BYqpxCJI/AAAAAAAAEKM/BvV53klXaTUuQHCkOXZZGywRMdU9v9T_wCLcBGAs/s1600/image2.png\" width=\"800px\"/>\n",
        "    <img src=\"https://cdn-images-1.medium.com/max/1024/1*8oE4jOMfOXeEzgsHjSB5ww.png\" width=\"800px\"/>\n",
        "</div>\n",
        "\n",
        "<!-- ![image](https://1.bp.blogspot.com/-DjZT_TLYZok/XO3BYqpxCJI/AAAAAAAAEKM/BvV53klXaTUuQHCkOXZZGywRMdU9v9T_wCLcBGAs/s1600/image2.png) -->\n",
        "<!-- ![image](https://cdn-images-1.medium.com/max/1024/1*8oE4jOMfOXeEzgsHjSB5ww.png) -->\n",
        "\n",
        "`EfficientNet` is a CNN architecture that was presented by the `Google AI` blog. These architectures are commonly used at a fixed resources budget, and can easily be scaled up for better performance if more resources become available.  \n",
        "  \n",
        "\n",
        "<div>\n",
        "    <img src=\"https://user-images.githubusercontent.com/52006798/116697418-d57b1280-a9cb-11eb-9959-23a00a71a613.png\" width=\"600px\"/>\n",
        "</div>\n",
        "<!-- ![0_FJos7uXvl-uLDpSQ](https://user-images.githubusercontent.com/52006798/116697418-d57b1280-a9cb-11eb-9959-23a00a71a613.png)   -->\n",
        "In the image above (a) is the baseline network, and (b), (c), (d) are scaling up networks that increase one dimension of the network: width, depth, or resolution.\n",
        "\n"
      ]
    },
    {
      "cell_type": "markdown",
      "metadata": {
        "id": "Sm96VJPHqYm1"
      },
      "source": [
        "### ***Inception-V4***\n",
        "\n",
        "<div>\n",
        "    <img src=\"https://miro.medium.com/max/1732/1*HJ3CNNGz6v76H38s7-OTSA.png\" width=\"800px\"/>\n",
        "</div>\n",
        "<!-- ![](https://miro.medium.com/max/1732/1*HJ3CNNGz6v76H38s7-OTSA.png) -->\n",
        "\n",
        "`Inception-V4` based on `Inception` architecture family which was presented by `Google` as well, envolved `GoogleLeNet`, and merged with `ResNet`.\n",
        "Inception-V4 is a simplifying of the baseline architecture and using more inception modules than the other inception architectures.\n",
        "\n",
        "A better overview of the network:  \n",
        "<div>\n",
        "    <img src=\"https://media.geeksforgeeks.org/wp-content/uploads/20200502220903/Inception-V4.PNG\" width=\"800px\"/>\n",
        "</div>\n",
        "<!-- ![](https://media.geeksforgeeks.org/wp-content/uploads/20200502220903/Inception-V4.PNG)   -->\n",
        "And the inception modules are:  \n",
        "![](https://media.geeksforgeeks.org/wp-content/uploads/20200505194051/InceptionV4-Inception-block.jpeg)  \n",
        "The principle of the inception modules is to reduce computational expenses. Instead of stacking multiple kernel filters, ordering them to operate on the same level and combine their results."
      ]
    },
    {
      "cell_type": "markdown",
      "metadata": {
        "id": "fPtfVKG1qbjj"
      },
      "source": [
        "### ***MobileNetV3***\n",
        "\n",
        "![](https://miro.medium.com/max/640/1*mQZkmE-13Ews0sD9EQjkiw.png)\n",
        "\n",
        "`MobileNet` is an architecture family that is tuned to mobile phone CPUs, it was first presented in 2017, and lead to a new section of deep learning research for models that can run on embedded systems.  \n",
        "The MobileNet architecture uses depthwise separable convolutions which separate the dimensions of a filter, which leads to a reduction in the number of parameters. In the end, a `1X1` filter is being used to cover the depth dimension.  \n",
        "<div>\n",
        "    <img src=\"https://miro.medium.com/max/2400/1*OrBhgRQsy1y9Ikc5QkU0UA.png\" width=\"500px\"/>\n",
        "</div>\n",
        "<!-- ![](https://miro.medium.com/max/2400/1*OrBhgRQsy1y9Ikc5QkU0UA.png) -->"
      ]
    },
    {
      "cell_type": "code",
      "metadata": {
        "id": "m7REjJDCntwI"
      },
      "source": [
        ""
      ],
      "execution_count": null,
      "outputs": []
    },
    {
      "cell_type": "markdown",
      "metadata": {
        "id": "2yNH2PmgFmmX"
      },
      "source": [
        "# Lab Session"
      ]
    },
    {
      "cell_type": "markdown",
      "metadata": {
        "id": "Keu4XBv5Frmq"
      },
      "source": [
        "## Imports\n",
        "\n",
        "\n",
        "\n"
      ]
    },
    {
      "cell_type": "code",
      "metadata": {
        "id": "u8JP77bcFx9n"
      },
      "source": [
        "import numpy as np\n",
        "from google.colab import drive\n",
        "import os \n",
        "import zipfile"
      ],
      "execution_count": 1,
      "outputs": []
    },
    {
      "cell_type": "markdown",
      "metadata": {
        "id": "MytKyxltFpDP"
      },
      "source": [
        "## Importing Data"
      ]
    },
    {
      "cell_type": "code",
      "metadata": {
        "colab": {
          "base_uri": "https://localhost:8080/"
        },
        "id": "oOgukH1qGxGA",
        "outputId": "a8ff5f78-3f1f-4b5e-ebfc-19eaa0693cc7"
      },
      "source": [
        "drive.mount(\"/content/drive\", force_remount=True)"
      ],
      "execution_count": 2,
      "outputs": [
        {
          "output_type": "stream",
          "text": [
            "Mounted at /content/drive\n"
          ],
          "name": "stdout"
        }
      ]
    },
    {
      "cell_type": "code",
      "metadata": {
        "id": "4oughKwQF3iP"
      },
      "source": [
        "GOOGLE_DRIVE_PATH_AFTER_MY_DRIVE = 'Colab Notebooks/Computer Vision/Lab 8'\n",
        "GOOGLE_DRIVE_PATH = os.path.join('drive', 'My Drive', GOOGLE_DRIVE_PATH_AFTER_MY_DRIVE)"
      ],
      "execution_count": 3,
      "outputs": []
    },
    {
      "cell_type": "code",
      "metadata": {
        "id": "9UlPopXQF32e"
      },
      "source": [
        "archive_path = os.path.join(GOOGLE_DRIVE_PATH, 'archive.zip')"
      ],
      "execution_count": 4,
      "outputs": []
    },
    {
      "cell_type": "code",
      "metadata": {
        "id": "ybYD_4NKGX-7"
      },
      "source": [
        "dir_to_extract = ''"
      ],
      "execution_count": 5,
      "outputs": []
    },
    {
      "cell_type": "code",
      "metadata": {
        "id": "9yKOrjvUGHPu"
      },
      "source": [
        "with zipfile.ZipFile(archive_path, 'r') as zip_ref:\n",
        "    zip_ref.extractall(dir_to_extract)"
      ],
      "execution_count": 6,
      "outputs": []
    }
  ]
}